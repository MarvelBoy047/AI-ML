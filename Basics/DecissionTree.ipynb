{
  "cells": [
    {
      "cell_type": "code",
      "execution_count": 1,
      "metadata": {
        "id": "dsUmy_fJoT7x"
      },
      "outputs": [],
      "source": [
        "# create a pandas frame for this file and edxplore its content\n",
        "import numpy as np\n",
        "import pandas as pd\n",
        "\n",
        "df = pd.read_csv(\"German Credit Data.csv\")\n"
      ]
    },
    {
      "cell_type": "code",
      "execution_count": 2,
      "metadata": {
        "id": "FREP_1F-pFU8"
      },
      "outputs": [
        {
          "name": "stdout",
          "output_type": "stream",
          "text": [
            "(1000, 14)\n"
          ]
        }
      ],
      "source": [
        "print(df.shape)"
      ]
    },
    {
      "cell_type": "code",
      "execution_count": 15,
      "metadata": {
        "id": "yyNQv9IJpJPQ"
      },
      "outputs": [
        {
          "name": "stdout",
          "output_type": "stream",
          "text": [
            "<class 'pandas.core.frame.DataFrame'>\n",
            "RangeIndex: 1000 entries, 0 to 999\n",
            "Data columns (total 14 columns):\n",
            " #   Column             Non-Null Count  Dtype \n",
            "---  ------             --------------  ----- \n",
            " 0   checkin_acc        1000 non-null   object\n",
            " 1   duration           1000 non-null   int64 \n",
            " 2   credit_history     1000 non-null   object\n",
            " 3   amount             1000 non-null   int64 \n",
            " 4   savings_acc        1000 non-null   object\n",
            " 5   present_emp_since  1000 non-null   object\n",
            " 6   inst_rate          1000 non-null   int64 \n",
            " 7   personal_status    1000 non-null   object\n",
            " 8   residing_since     1000 non-null   int64 \n",
            " 9   age                1000 non-null   int64 \n",
            " 10  inst_plans         1000 non-null   object\n",
            " 11  num_credits        1000 non-null   int64 \n",
            " 12  job                1000 non-null   object\n",
            " 13  status             1000 non-null   int64 \n",
            "dtypes: int64(7), object(7)\n",
            "memory usage: 109.5+ KB\n"
          ]
        }
      ],
      "source": [
        "df.info()"
      ]
    },
    {
      "cell_type": "code",
      "execution_count": 4,
      "metadata": {
        "id": "NiwKsTAdpL6g"
      },
      "outputs": [
        {
          "name": "stdout",
          "output_type": "stream",
          "text": [
            "<bound method NDFrame.describe of     checkin_acc  duration credit_history  amount savings_acc   \n",
            "0           A11         6            A34    1169         A65  \\\n",
            "1           A12        48            A32    5951         A61   \n",
            "2           A14        12            A34    2096         A61   \n",
            "3           A11        42            A32    7882         A61   \n",
            "4           A11        24            A33    4870         A61   \n",
            "..          ...       ...            ...     ...         ...   \n",
            "995         A14        12            A32    1736         A61   \n",
            "996         A11        30            A32    3857         A61   \n",
            "997         A14        12            A32     804         A61   \n",
            "998         A11        45            A32    1845         A61   \n",
            "999         A12        45            A34    4576         A62   \n",
            "\n",
            "    present_emp_since  inst_rate personal_status  residing_since  age   \n",
            "0                 A75          4             A93               4   67  \\\n",
            "1                 A73          2             A92               2   22   \n",
            "2                 A74          2             A93               3   49   \n",
            "3                 A74          2             A93               4   45   \n",
            "4                 A73          3             A93               4   53   \n",
            "..                ...        ...             ...             ...  ...   \n",
            "995               A74          3             A92               4   31   \n",
            "996               A73          4             A91               4   40   \n",
            "997               A75          4             A93               4   38   \n",
            "998               A73          4             A93               4   23   \n",
            "999               A71          3             A93               4   27   \n",
            "\n",
            "    inst_plans  num_credits   job  status  \n",
            "0         A143            2  A173       0  \n",
            "1         A143            1  A173       1  \n",
            "2         A143            1  A172       0  \n",
            "3         A143            1  A173       0  \n",
            "4         A143            2  A173       1  \n",
            "..         ...          ...   ...     ...  \n",
            "995       A143            1  A172       0  \n",
            "996       A143            1  A174       0  \n",
            "997       A143            1  A173       0  \n",
            "998       A143            1  A173       1  \n",
            "999       A143            1  A173       0  \n",
            "\n",
            "[1000 rows x 14 columns]>\n"
          ]
        }
      ],
      "source": [
        "print(df.describe)"
      ]
    },
    {
      "cell_type": "code",
      "execution_count": 5,
      "metadata": {
        "id": "Qx5XpGnfpOuo"
      },
      "outputs": [
        {
          "data": {
            "text/html": [
              "<div>\n",
              "<style scoped>\n",
              "    .dataframe tbody tr th:only-of-type {\n",
              "        vertical-align: middle;\n",
              "    }\n",
              "\n",
              "    .dataframe tbody tr th {\n",
              "        vertical-align: top;\n",
              "    }\n",
              "\n",
              "    .dataframe thead th {\n",
              "        text-align: right;\n",
              "    }\n",
              "</style>\n",
              "<table border=\"1\" class=\"dataframe\">\n",
              "  <thead>\n",
              "    <tr style=\"text-align: right;\">\n",
              "      <th></th>\n",
              "      <th>checkin_acc</th>\n",
              "      <th>duration</th>\n",
              "      <th>credit_history</th>\n",
              "      <th>amount</th>\n",
              "      <th>savings_acc</th>\n",
              "      <th>present_emp_since</th>\n",
              "      <th>inst_rate</th>\n",
              "      <th>personal_status</th>\n",
              "      <th>residing_since</th>\n",
              "      <th>age</th>\n",
              "      <th>inst_plans</th>\n",
              "      <th>num_credits</th>\n",
              "      <th>job</th>\n",
              "      <th>status</th>\n",
              "    </tr>\n",
              "  </thead>\n",
              "  <tbody>\n",
              "    <tr>\n",
              "      <th>0</th>\n",
              "      <td>A11</td>\n",
              "      <td>6</td>\n",
              "      <td>A34</td>\n",
              "      <td>1169</td>\n",
              "      <td>A65</td>\n",
              "      <td>A75</td>\n",
              "      <td>4</td>\n",
              "      <td>A93</td>\n",
              "      <td>4</td>\n",
              "      <td>67</td>\n",
              "      <td>A143</td>\n",
              "      <td>2</td>\n",
              "      <td>A173</td>\n",
              "      <td>0</td>\n",
              "    </tr>\n",
              "    <tr>\n",
              "      <th>1</th>\n",
              "      <td>A12</td>\n",
              "      <td>48</td>\n",
              "      <td>A32</td>\n",
              "      <td>5951</td>\n",
              "      <td>A61</td>\n",
              "      <td>A73</td>\n",
              "      <td>2</td>\n",
              "      <td>A92</td>\n",
              "      <td>2</td>\n",
              "      <td>22</td>\n",
              "      <td>A143</td>\n",
              "      <td>1</td>\n",
              "      <td>A173</td>\n",
              "      <td>1</td>\n",
              "    </tr>\n",
              "    <tr>\n",
              "      <th>2</th>\n",
              "      <td>A14</td>\n",
              "      <td>12</td>\n",
              "      <td>A34</td>\n",
              "      <td>2096</td>\n",
              "      <td>A61</td>\n",
              "      <td>A74</td>\n",
              "      <td>2</td>\n",
              "      <td>A93</td>\n",
              "      <td>3</td>\n",
              "      <td>49</td>\n",
              "      <td>A143</td>\n",
              "      <td>1</td>\n",
              "      <td>A172</td>\n",
              "      <td>0</td>\n",
              "    </tr>\n",
              "    <tr>\n",
              "      <th>3</th>\n",
              "      <td>A11</td>\n",
              "      <td>42</td>\n",
              "      <td>A32</td>\n",
              "      <td>7882</td>\n",
              "      <td>A61</td>\n",
              "      <td>A74</td>\n",
              "      <td>2</td>\n",
              "      <td>A93</td>\n",
              "      <td>4</td>\n",
              "      <td>45</td>\n",
              "      <td>A143</td>\n",
              "      <td>1</td>\n",
              "      <td>A173</td>\n",
              "      <td>0</td>\n",
              "    </tr>\n",
              "    <tr>\n",
              "      <th>4</th>\n",
              "      <td>A11</td>\n",
              "      <td>24</td>\n",
              "      <td>A33</td>\n",
              "      <td>4870</td>\n",
              "      <td>A61</td>\n",
              "      <td>A73</td>\n",
              "      <td>3</td>\n",
              "      <td>A93</td>\n",
              "      <td>4</td>\n",
              "      <td>53</td>\n",
              "      <td>A143</td>\n",
              "      <td>2</td>\n",
              "      <td>A173</td>\n",
              "      <td>1</td>\n",
              "    </tr>\n",
              "  </tbody>\n",
              "</table>\n",
              "</div>"
            ],
            "text/plain": [
              "  checkin_acc  duration credit_history  amount savings_acc present_emp_since   \n",
              "0         A11         6            A34    1169         A65               A75  \\\n",
              "1         A12        48            A32    5951         A61               A73   \n",
              "2         A14        12            A34    2096         A61               A74   \n",
              "3         A11        42            A32    7882         A61               A74   \n",
              "4         A11        24            A33    4870         A61               A73   \n",
              "\n",
              "   inst_rate personal_status  residing_since  age inst_plans  num_credits   \n",
              "0          4             A93               4   67       A143            2  \\\n",
              "1          2             A92               2   22       A143            1   \n",
              "2          2             A93               3   49       A143            1   \n",
              "3          2             A93               4   45       A143            1   \n",
              "4          3             A93               4   53       A143            2   \n",
              "\n",
              "    job  status  \n",
              "0  A173       0  \n",
              "1  A173       1  \n",
              "2  A172       0  \n",
              "3  A173       0  \n",
              "4  A173       1  "
            ]
          },
          "execution_count": 5,
          "metadata": {},
          "output_type": "execute_result"
        }
      ],
      "source": [
        "df.head()"
      ]
    },
    {
      "cell_type": "code",
      "execution_count": 6,
      "metadata": {
        "id": "GBob-9VipR7G"
      },
      "outputs": [
        {
          "data": {
            "text/html": [
              "<div>\n",
              "<style scoped>\n",
              "    .dataframe tbody tr th:only-of-type {\n",
              "        vertical-align: middle;\n",
              "    }\n",
              "\n",
              "    .dataframe tbody tr th {\n",
              "        vertical-align: top;\n",
              "    }\n",
              "\n",
              "    .dataframe thead th {\n",
              "        text-align: right;\n",
              "    }\n",
              "</style>\n",
              "<table border=\"1\" class=\"dataframe\">\n",
              "  <thead>\n",
              "    <tr style=\"text-align: right;\">\n",
              "      <th></th>\n",
              "      <th>checkin_acc</th>\n",
              "      <th>duration</th>\n",
              "      <th>credit_history</th>\n",
              "      <th>amount</th>\n",
              "      <th>savings_acc</th>\n",
              "      <th>present_emp_since</th>\n",
              "      <th>inst_rate</th>\n",
              "      <th>personal_status</th>\n",
              "    </tr>\n",
              "  </thead>\n",
              "  <tbody>\n",
              "    <tr>\n",
              "      <th>0</th>\n",
              "      <td>A11</td>\n",
              "      <td>6</td>\n",
              "      <td>A34</td>\n",
              "      <td>1169</td>\n",
              "      <td>A65</td>\n",
              "      <td>A75</td>\n",
              "      <td>4</td>\n",
              "      <td>A93</td>\n",
              "    </tr>\n",
              "    <tr>\n",
              "      <th>1</th>\n",
              "      <td>A12</td>\n",
              "      <td>48</td>\n",
              "      <td>A32</td>\n",
              "      <td>5951</td>\n",
              "      <td>A61</td>\n",
              "      <td>A73</td>\n",
              "      <td>2</td>\n",
              "      <td>A92</td>\n",
              "    </tr>\n",
              "    <tr>\n",
              "      <th>2</th>\n",
              "      <td>A14</td>\n",
              "      <td>12</td>\n",
              "      <td>A34</td>\n",
              "      <td>2096</td>\n",
              "      <td>A61</td>\n",
              "      <td>A74</td>\n",
              "      <td>2</td>\n",
              "      <td>A93</td>\n",
              "    </tr>\n",
              "    <tr>\n",
              "      <th>3</th>\n",
              "      <td>A11</td>\n",
              "      <td>42</td>\n",
              "      <td>A32</td>\n",
              "      <td>7882</td>\n",
              "      <td>A61</td>\n",
              "      <td>A74</td>\n",
              "      <td>2</td>\n",
              "      <td>A93</td>\n",
              "    </tr>\n",
              "    <tr>\n",
              "      <th>4</th>\n",
              "      <td>A11</td>\n",
              "      <td>24</td>\n",
              "      <td>A33</td>\n",
              "      <td>4870</td>\n",
              "      <td>A61</td>\n",
              "      <td>A73</td>\n",
              "      <td>3</td>\n",
              "      <td>A93</td>\n",
              "    </tr>\n",
              "  </tbody>\n",
              "</table>\n",
              "</div>"
            ],
            "text/plain": [
              "  checkin_acc  duration credit_history  amount savings_acc present_emp_since   \n",
              "0         A11         6            A34    1169         A65               A75  \\\n",
              "1         A12        48            A32    5951         A61               A73   \n",
              "2         A14        12            A34    2096         A61               A74   \n",
              "3         A11        42            A32    7882         A61               A74   \n",
              "4         A11        24            A33    4870         A61               A73   \n",
              "\n",
              "   inst_rate personal_status  \n",
              "0          4             A93  \n",
              "1          2             A92  \n",
              "2          2             A93  \n",
              "3          2             A93  \n",
              "4          3             A93  "
            ]
          },
          "execution_count": 6,
          "metadata": {},
          "output_type": "execute_result"
        }
      ],
      "source": [
        "# 3. Print the first five records and first 7 columns\n",
        "df.iloc[0:5,0:8] #[rows,columns]\n",
        "# The code \"df.iloc[0:5,0:7]\" selects a subset of data from a DataFrame called \"df\"., it selects the first 5 rows and the first 7 columns of the DataFrame. \n",
        "\n",
        "# The \"iloc\" method is used to select data based on its integer location. The first argument \"0:5\" specifies the range of rows to select, starting from row 0 and ending at row 4 (since the upper limit is not inclusive). The second argument \"0:7\" specifies the range of columns to select, starting from column 0 and ending at column 6.\n",
        "\n",
        "# This code can be useful for exploring the structure and contents of a DataFrame, or for selecting a specific subset of data for further analysis or visualization. Keep in mind that the selected subset of data may not represent the entire dataset, so it's important to consider the context and purpose of the analysis. "
      ]
    },
    {
      "cell_type": "code",
      "execution_count": 7,
      "metadata": {
        "id": "f1Moi18Op_kk"
      },
      "outputs": [
        {
          "data": {
            "text/html": [
              "<div>\n",
              "<style scoped>\n",
              "    .dataframe tbody tr th:only-of-type {\n",
              "        vertical-align: middle;\n",
              "    }\n",
              "\n",
              "    .dataframe tbody tr th {\n",
              "        vertical-align: top;\n",
              "    }\n",
              "\n",
              "    .dataframe thead th {\n",
              "        text-align: right;\n",
              "    }\n",
              "</style>\n",
              "<table border=\"1\" class=\"dataframe\">\n",
              "  <thead>\n",
              "    <tr style=\"text-align: right;\">\n",
              "      <th></th>\n",
              "      <th>personal_status</th>\n",
              "      <th>residing_since</th>\n",
              "      <th>age</th>\n",
              "      <th>inst_plans</th>\n",
              "      <th>num_credits</th>\n",
              "      <th>job</th>\n",
              "      <th>status</th>\n",
              "    </tr>\n",
              "  </thead>\n",
              "  <tbody>\n",
              "    <tr>\n",
              "      <th>0</th>\n",
              "      <td>A93</td>\n",
              "      <td>4</td>\n",
              "      <td>67</td>\n",
              "      <td>A143</td>\n",
              "      <td>2</td>\n",
              "      <td>A173</td>\n",
              "      <td>0</td>\n",
              "    </tr>\n",
              "    <tr>\n",
              "      <th>1</th>\n",
              "      <td>A92</td>\n",
              "      <td>2</td>\n",
              "      <td>22</td>\n",
              "      <td>A143</td>\n",
              "      <td>1</td>\n",
              "      <td>A173</td>\n",
              "      <td>1</td>\n",
              "    </tr>\n",
              "    <tr>\n",
              "      <th>2</th>\n",
              "      <td>A93</td>\n",
              "      <td>3</td>\n",
              "      <td>49</td>\n",
              "      <td>A143</td>\n",
              "      <td>1</td>\n",
              "      <td>A172</td>\n",
              "      <td>0</td>\n",
              "    </tr>\n",
              "    <tr>\n",
              "      <th>3</th>\n",
              "      <td>A93</td>\n",
              "      <td>4</td>\n",
              "      <td>45</td>\n",
              "      <td>A143</td>\n",
              "      <td>1</td>\n",
              "      <td>A173</td>\n",
              "      <td>0</td>\n",
              "    </tr>\n",
              "    <tr>\n",
              "      <th>4</th>\n",
              "      <td>A93</td>\n",
              "      <td>4</td>\n",
              "      <td>53</td>\n",
              "      <td>A143</td>\n",
              "      <td>2</td>\n",
              "      <td>A173</td>\n",
              "      <td>1</td>\n",
              "    </tr>\n",
              "  </tbody>\n",
              "</table>\n",
              "</div>"
            ],
            "text/plain": [
              "  personal_status  residing_since  age inst_plans  num_credits   job  status\n",
              "0             A93               4   67       A143            2  A173       0\n",
              "1             A92               2   22       A143            1  A173       1\n",
              "2             A93               3   49       A143            1  A172       0\n",
              "3             A93               4   45       A143            1  A173       0\n",
              "4             A93               4   53       A143            2  A173       1"
            ]
          },
          "execution_count": 7,
          "metadata": {},
          "output_type": "execute_result"
        }
      ],
      "source": [
        "# 4. Print the first five records and remaining columns\n",
        "df.iloc[0:5,7:15]"
      ]
    },
    {
      "cell_type": "code",
      "execution_count": 8,
      "metadata": {
        "id": "xfjK2-AsqfHC"
      },
      "outputs": [
        {
          "data": {
            "text/plain": [
              "array(['A11', 'A12', 'A14', 'A13'], dtype=object)"
            ]
          },
          "execution_count": 8,
          "metadata": {},
          "output_type": "execute_result"
        }
      ],
      "source": [
        "# 5. Few of the columns are categorical and are infered as objects. Ex: checkin_acc. Print all unique values of this column\n",
        "df[\"checkin_acc\"].unique()\n",
        "# The output of the code \"df[\"checkin_acc\"].unique()\" will depend on the structure and content of the pandas dataframe named \"df\". Assuming that there is a column named \"checkin_acc\" in the dataframe, this code will return an array of unique values that are present in that column. \n",
        "\n",
        "# For example, if the \"checkin_acc\" column contains categorical data related to bank accounts, such as \"no account\", \"low balance\", \"medium balance\", and \"high balance\", then the output of this code will be an array containing these unique values.\n",
        "\n",
        "# This code is useful for exploring the unique values in a column of a dataframe, which can help in identifying any data quality issues or patterns in the data. It can also be used for data preprocessing tasks such as encoding categorical variables for machine learning models. "
      ]
    },
    {
      "cell_type": "code",
      "execution_count": 9,
      "metadata": {
        "id": "4KNGjsgDq3bV"
      },
      "outputs": [
        {
          "name": "stdout",
          "output_type": "stream",
          "text": [
            "['duration', 'amount', 'inst_rate', 'residing_since', 'age', 'num_credits', 'checkin_acc_A12', 'checkin_acc_A13', 'checkin_acc_A14', 'credit_history_A31', 'credit_history_A32', 'credit_history_A33', 'credit_history_A34', 'savings_acc_A62', 'savings_acc_A63', 'savings_acc_A64', 'savings_acc_A65', 'present_emp_since_A72', 'present_emp_since_A73', 'present_emp_since_A74', 'present_emp_since_A75', 'personal_status_A92', 'personal_status_A93', 'personal_status_A94', 'inst_plans_A142', 'inst_plans_A143', 'job_A172', 'job_A173', 'job_A174']\n"
          ]
        }
      ],
      "source": [
        "# 6. Encode all categorical features using one-hot encoding. A feature with n values is encoded using (n-1) values, retaining the first one (drop_first = True)\n",
        "# First, you have a DataFrame named df, and you want to create a list of column names as X_features, excluding the column named 'status'. To accomplish this, you can use the following code:\n",
        "# Next, you want to encode the categorical features in the DataFrame df[X_features] using one-hot encoding. The resulting encoded DataFrame will be stored in encoded_df. To achieve this, you can utilize the pd.get_dummies() function with the drop_first=True parameter, which drops the first category for each feature to avoid multicollinearity:\n",
        "# Finally, you can print the list of column names in the encoded_df DataFrame using print(list(encoded_df.columns)):\n",
        "# This will display the column names of the encoded DataFrame.\n",
        "X_features = list(df.columns) #creating the list of the columns\n",
        "X_features.remove('status') #deleting the status column\n",
        "encoded_df = pd.get_dummies(df[X_features],drop_first=True) #encoding the feature using get dummies and drop the first values\n",
        "print(list(encoded_df.columns)) #printing the result"
      ]
    },
    {
      "cell_type": "code",
      "execution_count": 10,
      "metadata": {
        "id": "Hge6nfK3srAD"
      },
      "outputs": [],
      "source": [
        "# 7. Make independent features of the encoded frame as X and column 'status' as dependent feature.\n",
        "X = encoded_df\n",
        "Y = df[\"status\"]"
      ]
    },
    {
      "cell_type": "code",
      "execution_count": 11,
      "metadata": {
        "id": "tfjQwHvxuDOG"
      },
      "outputs": [],
      "source": [
        "# 8. Divide data into 70% training and 30% as testing.  \n",
        "from sklearn.model_selection import train_test_split\n",
        "X_train,X_test,Y_train,Y_test = train_test_split(X,Y,test_size = 0.3, random_state =42)\n",
        "\n",
        "# X and Y are the arrays or DataFrames representing your input features and target variable, respectively.\n",
        "# test_size=0.3 indicates that you want to allocate 30% of the data to the testing set. This means that 70% of the data will be allocated to the training set.\n",
        "# random_state=42 sets the random seed to 42, ensuring reproducibility of the split. This means that each time you run the code with the same random seed, you will obtain the same split.\n",
        "# After executing this code, the function will split your data into four arrays or DataFrames: X_train, Y_train, X_test, and Y_test. The training data will be stored in X_train and Y_train, while the testing data will be stored in X_test and Y_test."
      ]
    },
    {
      "cell_type": "code",
      "execution_count": 12,
      "metadata": {
        "id": "0XyvS8mkuru0"
      },
      "outputs": [
        {
          "data": {
            "text/html": [
              "<style>#sk-container-id-1 {color: black;background-color: white;}#sk-container-id-1 pre{padding: 0;}#sk-container-id-1 div.sk-toggleable {background-color: white;}#sk-container-id-1 label.sk-toggleable__label {cursor: pointer;display: block;width: 100%;margin-bottom: 0;padding: 0.3em;box-sizing: border-box;text-align: center;}#sk-container-id-1 label.sk-toggleable__label-arrow:before {content: \"▸\";float: left;margin-right: 0.25em;color: #696969;}#sk-container-id-1 label.sk-toggleable__label-arrow:hover:before {color: black;}#sk-container-id-1 div.sk-estimator:hover label.sk-toggleable__label-arrow:before {color: black;}#sk-container-id-1 div.sk-toggleable__content {max-height: 0;max-width: 0;overflow: hidden;text-align: left;background-color: #f0f8ff;}#sk-container-id-1 div.sk-toggleable__content pre {margin: 0.2em;color: black;border-radius: 0.25em;background-color: #f0f8ff;}#sk-container-id-1 input.sk-toggleable__control:checked~div.sk-toggleable__content {max-height: 200px;max-width: 100%;overflow: auto;}#sk-container-id-1 input.sk-toggleable__control:checked~label.sk-toggleable__label-arrow:before {content: \"▾\";}#sk-container-id-1 div.sk-estimator input.sk-toggleable__control:checked~label.sk-toggleable__label {background-color: #d4ebff;}#sk-container-id-1 div.sk-label input.sk-toggleable__control:checked~label.sk-toggleable__label {background-color: #d4ebff;}#sk-container-id-1 input.sk-hidden--visually {border: 0;clip: rect(1px 1px 1px 1px);clip: rect(1px, 1px, 1px, 1px);height: 1px;margin: -1px;overflow: hidden;padding: 0;position: absolute;width: 1px;}#sk-container-id-1 div.sk-estimator {font-family: monospace;background-color: #f0f8ff;border: 1px dotted black;border-radius: 0.25em;box-sizing: border-box;margin-bottom: 0.5em;}#sk-container-id-1 div.sk-estimator:hover {background-color: #d4ebff;}#sk-container-id-1 div.sk-parallel-item::after {content: \"\";width: 100%;border-bottom: 1px solid gray;flex-grow: 1;}#sk-container-id-1 div.sk-label:hover label.sk-toggleable__label {background-color: #d4ebff;}#sk-container-id-1 div.sk-serial::before {content: \"\";position: absolute;border-left: 1px solid gray;box-sizing: border-box;top: 0;bottom: 0;left: 50%;z-index: 0;}#sk-container-id-1 div.sk-serial {display: flex;flex-direction: column;align-items: center;background-color: white;padding-right: 0.2em;padding-left: 0.2em;position: relative;}#sk-container-id-1 div.sk-item {position: relative;z-index: 1;}#sk-container-id-1 div.sk-parallel {display: flex;align-items: stretch;justify-content: center;background-color: white;position: relative;}#sk-container-id-1 div.sk-item::before, #sk-container-id-1 div.sk-parallel-item::before {content: \"\";position: absolute;border-left: 1px solid gray;box-sizing: border-box;top: 0;bottom: 0;left: 50%;z-index: -1;}#sk-container-id-1 div.sk-parallel-item {display: flex;flex-direction: column;z-index: 1;position: relative;background-color: white;}#sk-container-id-1 div.sk-parallel-item:first-child::after {align-self: flex-end;width: 50%;}#sk-container-id-1 div.sk-parallel-item:last-child::after {align-self: flex-start;width: 50%;}#sk-container-id-1 div.sk-parallel-item:only-child::after {width: 0;}#sk-container-id-1 div.sk-dashed-wrapped {border: 1px dashed gray;margin: 0 0.4em 0.5em 0.4em;box-sizing: border-box;padding-bottom: 0.4em;background-color: white;}#sk-container-id-1 div.sk-label label {font-family: monospace;font-weight: bold;display: inline-block;line-height: 1.2em;}#sk-container-id-1 div.sk-label-container {text-align: center;}#sk-container-id-1 div.sk-container {/* jupyter's `normalize.less` sets `[hidden] { display: none; }` but bootstrap.min.css set `[hidden] { display: none !important; }` so we also need the `!important` here to be able to override the default hidden behavior on the sphinx rendered scikit-learn.org. See: https://github.com/scikit-learn/scikit-learn/issues/21755 */display: inline-block !important;position: relative;}#sk-container-id-1 div.sk-text-repr-fallback {display: none;}</style><div id=\"sk-container-id-1\" class=\"sk-top-container\"><div class=\"sk-text-repr-fallback\"><pre>DecisionTreeClassifier(max_depth=3)</pre><b>In a Jupyter environment, please rerun this cell to show the HTML representation or trust the notebook. <br />On GitHub, the HTML representation is unable to render, please try loading this page with nbviewer.org.</b></div><div class=\"sk-container\" hidden><div class=\"sk-item\"><div class=\"sk-estimator sk-toggleable\"><input class=\"sk-toggleable__control sk-hidden--visually\" id=\"sk-estimator-id-1\" type=\"checkbox\" checked><label for=\"sk-estimator-id-1\" class=\"sk-toggleable__label sk-toggleable__label-arrow\">DecisionTreeClassifier</label><div class=\"sk-toggleable__content\"><pre>DecisionTreeClassifier(max_depth=3)</pre></div></div></div></div></div>"
            ],
            "text/plain": [
              "DecisionTreeClassifier(max_depth=3)"
            ]
          },
          "execution_count": 12,
          "metadata": {},
          "output_type": "execute_result"
        }
      ],
      "source": [
        "# 9. Train a decision tree model using Gini INdex and depth of 3\n",
        "from sklearn.tree import DecisionTreeClassifier\n",
        "clf = DecisionTreeClassifier(criterion = 'gini', max_depth=3 )\n",
        "clf.fit(X_train,Y_train)\n",
        "# n this code, you import the DecisionTreeClassifier class from sklearn.tree. Then, you create an instance of the classifier named clf. The classifier is initialized with the following parameters:\n",
        "\n",
        "# criterion='gini' sets the criterion used to measure the quality of a split in the decision tree. The 'gini' criterion refers to the Gini impurity, which is a measure of the node's impurity based on class probabilities. Other supported criteria are 'entropy' for the Shannon information gain and 'log_loss' for logarithmic loss [1].\n",
        "# max_depth=3 sets the maximum depth of the decision tree. This parameter limits the number of levels the tree can grow to. In this case, the tree is limited to a depth of 3, meaning it can have at most 3 levels from the root to the leaves [2].\n",
        "# Once the classifier is instantiated, you fit it to your training data using clf.fit(X_train, Y_train). This trains the decision tree classifier on the features X_train and their corresponding targets Y_train."
      ]
    },
    {
      "cell_type": "code",
      "execution_count": 13,
      "metadata": {
        "id": "8yOGsvzUwQcZ"
      },
      "outputs": [],
      "source": [
        "# 10. Make predictions on test/validation data\n",
        "pred_y = clf.predict(X_test)"
      ]
    },
    {
      "cell_type": "code",
      "execution_count": 14,
      "metadata": {
        "id": "dhsPrWitxC_b"
      },
      "outputs": [
        {
          "ename": "NameError",
          "evalue": "name 'y_test' is not defined",
          "output_type": "error",
          "traceback": [
            "\u001b[1;31m---------------------------------------------------------------------------\u001b[0m",
            "\u001b[1;31mNameError\u001b[0m                                 Traceback (most recent call last)",
            "Cell \u001b[1;32mIn[14], line 3\u001b[0m\n\u001b[0;32m      1\u001b[0m \u001b[38;5;66;03m# 11. Print the confusion matrix, accuracy and AUC score of this model on test set\u001b[39;00m\n\u001b[0;32m      2\u001b[0m \u001b[38;5;28;01mfrom\u001b[39;00m \u001b[38;5;21;01msklearn\u001b[39;00m \u001b[38;5;28;01mimport\u001b[39;00m metrics\n\u001b[1;32m----> 3\u001b[0m \u001b[38;5;28mprint\u001b[39m(\u001b[38;5;124m\"\u001b[39m\u001b[38;5;124mConfusion Matrix is\u001b[39m\u001b[38;5;130;01m\\n\u001b[39;00m\u001b[38;5;124m\"\u001b[39m,metrics\u001b[38;5;241m.\u001b[39mconfusion_matrix(pred_y, \u001b[43my_test\u001b[49m))\n\u001b[0;32m      4\u001b[0m \u001b[38;5;28mprint\u001b[39m(\u001b[38;5;124m\"\u001b[39m\u001b[38;5;124mAccuracy is\u001b[39m\u001b[38;5;124m\"\u001b[39m, metrics\u001b[38;5;241m.\u001b[39maccuracy_score(pred_y,y_test))\n\u001b[0;32m      5\u001b[0m \u001b[38;5;28mprint\u001b[39m(\u001b[38;5;124m\"\u001b[39m\u001b[38;5;124mAUC Score is\u001b[39m\u001b[38;5;124m\"\u001b[39m, metrics\u001b[38;5;241m.\u001b[39mroc_auc_score(pred_y, y_test))\n",
            "\u001b[1;31mNameError\u001b[0m: name 'y_test' is not defined"
          ]
        }
      ],
      "source": [
        "# 11. Print the confusion matrix, accuracy and AUC score of this model on test set\n",
        "from sklearn import metrics\n",
        "print(\"Confusion Matrix is\\n\",metrics.confusion_matrix(pred_y, y_test))\n",
        "print(\"Accuracy is\", metrics.accuracy_score(pred_y,y_test))\n",
        "print(\"AUC Score is\", metrics.roc_auc_score(pred_y, y_test))\n",
        "\n",
        "# confusion_matrix(y_true, y_pred, *, labels=None, sample_weight=None, normalize=None)\n",
        "# computes a confusion matrix to evaluate the accuracy of a classification. \n",
        "# It compares the true labels (y_true) with the predicted labels (y_pred) and \n",
        "# provides information about the number of observations known to be in each group and \n",
        "# the number of observations predicted to be in each group\n",
        "# accuracy_score(y_true, y_pred) calculates the accuracy of the classification by comparing the true \n",
        "# labels (y_true) with the predicted labels (y_pred).\n",
        "# roc_auc_score(y_true, y_score) computes the area under the receiver operating characteristic\n",
        "# curve (ROC AUC) for binary classification tasks.\n",
        "# It measures the classifier's ability to rank the positive and negative samples correctly [1].\n",
        "# By calling these functions with pred_y as the predicted labels and y_test as the true labels, \n",
        "# you can obtain the confusion matrix, accuracy score, and ROC AUC score, respectively. \n"
      ]
    },
    {
      "cell_type": "code",
      "execution_count": null,
      "metadata": {
        "id": "ds5qZDISDGks"
      },
      "outputs": [],
      "source": [
        "# 12. Visualize the tree using grapghviz and pydotplus libraries\n",
        "from sklearn.tree import export_graphviz\n",
        "import pydotplus as pdot\n",
        "from IPython.display import Image\n",
        "export_graphviz(clf,out_file = \"tree.odt\", feature_names = X_train.columns, filled = True)\n",
        "graph = pdot.graphviz.graph_from_dot_file(\"tree.odt\")\n",
        "graph.write_jpg(\"tree.png\")\n",
        "Image(filename = \"tree.png\")\n",
        "\n",
        "# In this code, you perform the following steps:\n",
        "\n",
        "# Import the necessary modules and functions: export_graphviz from sklearn.tree, pydotplus as pdot, and Image from IPython.display.\n",
        "# Call export_graphviz to export the decision tree model (clf) to the GraphViz format.\n",
        "#  The out_file parameter specifies the output file name (\"tree.odt\" in this case), and \n",
        "#  the feature_names parameter provides the names of the features in your dataset.\n",
        "# Use graphviz.graph_from_dot_file from pydotplus to create a graph from the exported GraphViz file (\"tree.odt\").\n",
        "# Write the graph to a JPG image file (\"tree.png\") using write_jpg method of the graph object.\n",
        "# Display the image using IPython.display.Image by providing the filename of the image (\"tree.png\")."
      ]
    },
    {
      "cell_type": "code",
      "execution_count": null,
      "metadata": {
        "id": "LKrVoKSNEHKZ"
      },
      "outputs": [],
      "source": []
    }
  ],
  "metadata": {
    "colab": {
      "private_outputs": true,
      "provenance": []
    },
    "kernelspec": {
      "display_name": "Python 3.11.3 64-bit (microsoft store)",
      "language": "python",
      "name": "python3"
    },
    "language_info": {
      "codemirror_mode": {
        "name": "ipython",
        "version": 3
      },
      "file_extension": ".py",
      "mimetype": "text/x-python",
      "name": "python",
      "nbconvert_exporter": "python",
      "pygments_lexer": "ipython3",
      "version": "3.11.3"
    },
    "vscode": {
      "interpreter": {
        "hash": "584cc8f0d449d89b5866eb870d097caef796fcbdeb82990e5be9128599301d79"
      }
    }
  },
  "nbformat": 4,
  "nbformat_minor": 0
}
